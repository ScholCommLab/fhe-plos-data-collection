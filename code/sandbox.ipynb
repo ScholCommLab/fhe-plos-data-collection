{
 "cells": [
  {
   "cell_type": "code",
   "execution_count": 18,
   "metadata": {},
   "outputs": [],
   "source": [
    "import datetime\n",
    "import configparser\n",
    "import json\n",
    "import math\n",
    "import requests\n",
    "import queue\n",
    "import csv\n",
    "\n",
    "import pandas as pd\n",
    "from ratelimit import limits, RateLimitException, sleep_and_retry\n",
    "from facebook import GraphAPI, GraphAPIError\n",
    "\n",
    "from tqdm._tqdm_notebook import tqdm_notebook as tqdm\n",
    "# from tqdm import tqdm"
   ]
  },
  {
   "cell_type": "code",
   "execution_count": 4,
   "metadata": {},
   "outputs": [],
   "source": [
    "tqdm.pandas()"
   ]
  },
  {
   "cell_type": "markdown",
   "metadata": {},
   "source": [
    "## Step 0 - Define helpers, load configs, etc"
   ]
  },
  {
   "cell_type": "code",
   "execution_count": 5,
   "metadata": {},
   "outputs": [],
   "source": [
    "input_csv = \"../data/plos2016.csv\"\n",
    "urls_csv = \"../data/urls.csv\"\n",
    "query_csv = \"../data/queries.csv\"\n",
    "og_csv = \"../data/og_objects.csv\"\n",
    "\n",
    "batchsize = 50"
   ]
  },
  {
   "cell_type": "code",
   "execution_count": 6,
   "metadata": {},
   "outputs": [],
   "source": [
    "def get_fb_access_token(app_id, app_secret):\n",
    "    payload = {'grant_type': 'client_credentials',\n",
    "               'client_id': app_id,\n",
    "               'client_secret': app_secret}\n",
    "\n",
    "    try:\n",
    "        response = requests.post('https://graph.facebook.com/oauth/access_token?', params = payload)\n",
    "    except requests.exceptions.RequestException:\n",
    "        raise Exception()\n",
    "\n",
    "    access_token = json.loads(response.text)['access_token']\n",
    "    print(\"Generated access token: \" + access_token)"
   ]
  },
  {
   "cell_type": "code",
   "execution_count": 7,
   "metadata": {},
   "outputs": [],
   "source": [
    "def chunker(seq, size):\n",
    "    return (seq[pos:pos + size] for pos in range(0, len(seq), size))"
   ]
  },
  {
   "cell_type": "code",
   "execution_count": 8,
   "metadata": {},
   "outputs": [],
   "source": [
    "def query_url(url):\n",
    "    result = {}\n",
    "    try:\n",
    "        r = fb_graph.get_object(id=url.strip(), fields=\"engagement,og_object\")\n",
    "    except Exception as e:\n",
    "        result['received'] = datetime.datetime.now()\n",
    "        result['err_msg'] = str(e)\n",
    "        return result\n",
    "        \n",
    "    result['received'] = datetime.datetime.now()\n",
    "    result['err_msg'] = None\n",
    "    result['fb_url'] = r['id']\n",
    "    \n",
    "    if 'og_object' in r:\n",
    "        result[\"og_obj\"] = r['og_object']\n",
    "        result[\"og_eng\"]  = r['engagement']\n",
    "    \n",
    "    return result"
   ]
  },
  {
   "cell_type": "code",
   "execution_count": 9,
   "metadata": {},
   "outputs": [],
   "source": [
    "def query_urls(urls):\n",
    "    results = {}\n",
    "    \n",
    "    try:\n",
    "        responses = fb_graph.get_objects(\n",
    "            ids=[url.strip() for url in urls],\n",
    "            fields=\"engagement,og_object\")\n",
    "    except Exception as e:\n",
    "        raise\n",
    "\n",
    "    received = datetime.datetime.now()\n",
    "\n",
    "    for url, r in responses.items():        \n",
    "        result = {}\n",
    "\n",
    "        result['received'] = received\n",
    "        result['err_msg'] = None\n",
    "        result['fb_url'] = r['id']\n",
    "\n",
    "        if 'og_object' in r:\n",
    "            result[\"og_obj\"] = r['og_object']\n",
    "            result[\"og_eng\"]  = r['engagement']\n",
    "\n",
    "        results[url] = result\n",
    "    return results "
   ]
  },
  {
   "cell_type": "markdown",
   "metadata": {},
   "source": [
    "# Step 1 - Load FB credentials"
   ]
  },
  {
   "cell_type": "code",
   "execution_count": 10,
   "metadata": {},
   "outputs": [],
   "source": [
    "# Load config\n",
    "Config = configparser.ConfigParser()\n",
    "Config.read('../config.cnf')\n",
    "FACEBOOK_APP_ID = Config.get('facebook', 'app_id')\n",
    "FACEBOOK_APP_SECRET = Config.get('facebook', 'app_secret')"
   ]
  },
  {
   "cell_type": "code",
   "execution_count": 11,
   "metadata": {},
   "outputs": [],
   "source": [
    "# access_token = get_fb_access_token(FACEBOOK_APP_ID, FACEBOOK_APP_SECRET)\n",
    "temp_token = \"EAAEFTB4qA1gBAJ67bA5JTsO81obczMiXdn0B448AbYThgdDGuWemy16zyowVhciCdLdV80Sz1oNpITZBy1KUYwD6YuSOJBeiJCmgq0I6KU9DSplaXPaX7GNw6oB8qZA7RAn2tZAaZCZCHwPPTjMrYOAHlB3cGypEI2T53HI1wqixZCKjZBwBRXgokLZAHoSQPQIvLczEGyjcNQZDZD\"\n",
    "fb_graph = GraphAPI(temp_token, version=\"2.10\")"
   ]
  },
  {
   "cell_type": "code",
   "execution_count": 140,
   "metadata": {},
   "outputs": [],
   "source": [
    "token = fb_graph.extend_access_token(FACEBOOK_APP_ID, FACEBOOK_APP_SECRET)"
   ]
  },
  {
   "cell_type": "markdown",
   "metadata": {},
   "source": [
    "# Step 2 - Load URLs"
   ]
  },
  {
   "cell_type": "code",
   "execution_count": 141,
   "metadata": {},
   "outputs": [
    {
     "data": {
      "text/plain": [
       "{'access_token': 'EAAEFTB4qA1gBACQG3PkgcmKiPqcflBAVluklgES9SZCN6yMeIB3ukdcE52ZAwSBha2xg5ioN6yZBMQDOAhPS0ZBVkRWU6wyDkzTSCzt5Rh0ZBknZBCy5QH5An7874x68ffI4usrQ5ZBBCd9taWyG5miMHsVO8yjjDEZD',\n",
       " 'expires_in': 5166330,\n",
       " 'token_type': 'bearer'}"
      ]
     },
     "execution_count": 141,
     "metadata": {},
     "output_type": "execute_result"
    }
   ],
   "source": [
    "token"
   ]
  },
  {
   "cell_type": "code",
   "execution_count": 12,
   "metadata": {},
   "outputs": [],
   "source": [
    "urls = pd.read_csv(urls_csv, index_col=\"url_id\")\n",
    "urls = urls.sample(10)"
   ]
  },
  {
   "cell_type": "markdown",
   "metadata": {},
   "source": [
    "## Step 3 - Run queries"
   ]
  },
  {
   "cell_type": "code",
   "execution_count": 13,
   "metadata": {},
   "outputs": [],
   "source": [
    "def process_result(url_id, result, queries, og_objects, query_f, og_f, now):\n",
    "    query_id = queries.shape[0]\n",
    "    queries.loc[query_id] = [url_id, result['err_msg'], str(now)]\n",
    "    \n",
    "    query_f.writerow([query_id, url_id, result['err_msg'], str(now)])\n",
    "                             \n",
    "    # if result, record og object\n",
    "    if 'og_obj' in result:\n",
    "        i = og_objects.shape[0]\n",
    "\n",
    "        og_id = result['og_obj']['id']\n",
    "        reactions = int(result['og_eng']['reaction_count'])\n",
    "        shares = int(result['og_eng']['share_count'])\n",
    "        comments = int(result['og_eng']['comment_count'])\n",
    "        plugin_comments = int(result['og_eng']['comment_plugin_count'])\n",
    "\n",
    "        for field in ['description', 'title', 'type', 'updated_time']:\n",
    "            try:\n",
    "                og_objects.loc[i, \"og_{}\".format(field)] = result['og_obj'][field]\n",
    "            except:\n",
    "                og_objects.loc[i, \"og_{}\".format(field)] = None\n",
    "        \n",
    "        og_objects.loc[i, \"fb_url\"] = result[\"fb_url\"]\n",
    "        og_objects.loc[i, \"og_id\"] = og_id\n",
    "        og_objects.loc[i, \"query_id\"] = query_id\n",
    "        og_objects.loc[i, \"received_at\"] = str(result['received'])\n",
    "        og_objects.loc[i, [\"reactions\", \"shares\", \"comments\", \"plugin_comments\"]] = [reactions, shares, comments, plugin_comments]\n",
    "         \n",
    "        og_f.writerow(og_objects.loc[i][og_columns].tolist())"
   ]
  },
  {
   "cell_type": "code",
   "execution_count": 23,
   "metadata": {},
   "outputs": [],
   "source": [
    "@sleep_and_retry\n",
    "@limits(calls=1, period=1)\n",
    "def process_url(batch, queries, og_objects, query_f, og_f):\n",
    "    \"\"\"\"\"\"\n",
    "    try:\n",
    "        now = datetime.datetime.now()\n",
    "        result = query_url(batch.url)\n",
    "        process_result(batch.name, result, queries, og_objects, query_f, og_f, now)\n",
    "    except GraphAPIError as e: \n",
    "        query_f.writerow([queries.shape[0], batch.name, e, str(now)])"
   ]
  },
  {
   "cell_type": "code",
   "execution_count": 22,
   "metadata": {},
   "outputs": [],
   "source": [
    "@sleep_and_retry\n",
    "@limits(calls=1, period=1)\n",
    "def process_batch(batch, queries, og_objects, query_f, og_f, failed_batches):\n",
    "    \"\"\"\"\"\"\n",
    "    try:\n",
    "        now = datetime.datetime.now()\n",
    "        results = query_urls(batch.url.tolist())\n",
    "\n",
    "        # successful batch query\n",
    "        for url, result in results.items():\n",
    "            url_id = batch[batch.url == url].index[0]\n",
    "            process_result(url_id, result, queries, og_objects, query_f, og_f, now) \n",
    "        \n",
    "    # failed batch query\n",
    "    except GraphAPIError as e: \n",
    "        failed_batches.put((e, batch_ind))"
   ]
  },
  {
   "cell_type": "code",
   "execution_count": 24,
   "metadata": {},
   "outputs": [
    {
     "data": {
      "application/vnd.jupyter.widget-view+json": {
       "model_id": "54a609a4f1ef41c88581073cf98b0771",
       "version_major": 2,
       "version_minor": 0
      },
      "text/plain": [
       "HBox(children=(IntProgress(value=0, description='Batches', max=1), HTML(value='')))"
      ]
     },
     "metadata": {},
     "output_type": "display_data"
    },
    {
     "name": "stdout",
     "output_type": "stream",
     "text": [
      "10\n",
      "\n"
     ]
    },
    {
     "data": {
      "application/vnd.jupyter.widget-view+json": {
       "model_id": "dccab92e29cc48638cc230fc336ec862",
       "version_major": 2,
       "version_minor": 0
      },
      "text/plain": [
       "HBox(children=(IntProgress(value=0, description='Failed batches', max=10), HTML(value='')))"
      ]
     },
     "metadata": {},
     "output_type": "display_data"
    },
    {
     "name": "stdout",
     "output_type": "stream",
     "text": [
      "(#4) Application request limit reached 10 0\n",
      "   5\n",
      "   5\n",
      "(#4) Application request limit reached 5 1\n",
      "   3\n",
      "   2\n",
      "(#4) Application request limit reached 5 2\n",
      "   3\n",
      "   2\n",
      "(#4) Application request limit reached 3 3\n",
      "(#4) Application request limit reached 2 2\n",
      "(#4) Application request limit reached 3 1\n",
      "(#4) Application request limit reached 2 0\n",
      "\n"
     ]
    }
   ],
   "source": [
    "# Create DF for queries\n",
    "query_columns = [\"url_id\", \"error_msg\", \"queried_at\"]\n",
    "queries = pd.DataFrame(columns=query_columns)\n",
    "\n",
    "# Create DF for graph objects\n",
    "og_columns = [\"og_id\", \"query_id\", \"received_at\", \"fb_url\",\n",
    "              \"og_description\", \"og_title\", \"og_type\", \"og_updated_time\",\n",
    "              \"reactions\", \"shares\", \"comments\", \"plugin_comments\"]\n",
    "og_objects = pd.DataFrame(columns=og_columns)\n",
    "\n",
    "with open(query_csv, \"w\") as query_f, open(og_csv, \"w\") as og_f:\n",
    "    query_writer = csv.writer(query_f, delimiter=\",\")\n",
    "    og_writer = csv.writer(og_f, delimiter=\",\")\n",
    "    \n",
    "    # Write column labels \n",
    "    query_writer.writerow([\"query_id\"] + queries.columns.tolist())\n",
    "    og_writer.writerow(og_objects.columns.tolist())\n",
    "\n",
    "    # Keep track of indices that failed during batchmode\n",
    "    failed_batches = queue.Queue()\n",
    "\n",
    "    # Initialise indices for batches\n",
    "    if len(urls) < batchsize:\n",
    "        batchsize = len(urls)\n",
    "    batch_indices = chunker(urls.index, batchsize)\n",
    "\n",
    "    # Keep appending in batches of 50\n",
    "    for batch_ind in tqdm(batch_indices, total=len(urls)//batchsize, desc=\"Batches\"):\n",
    "        print(len(batch_ind))\n",
    "        batch = urls.loc[batch_ind] \n",
    "        process_batch(batch, queries, og_objects, query_writer, og_writer, failed_batches)\n",
    "    \n",
    "    # Process failed batches\n",
    "    pbar = tqdm(total=failed_batches.qsize()*batchsize, desc=\"Failed batches\")\n",
    "    while not failed_batches.empty():\n",
    "        e, bad_batch = failed_batches.get()\n",
    "        print(e, len(bad_batch), failed_batches.qsize())\n",
    "        if len(bad_batch) > 4:\n",
    "            batch_indices = chunker(bad_batch, math.ceil(len(bad_batch)/2))\n",
    "            \n",
    "            for batch_ind in batch_indices:\n",
    "                print(\"   \" + str(len(batch_ind)))\n",
    "                batch = urls.loc[batch_ind]\n",
    "                \n",
    "                q_len = failed_batches.qsize()\n",
    "                process_batch(batch, queries, og_objects, query_writer, og_writer, failed_batches)\n",
    "                if failed_batches.qsize() == q_len:\n",
    "                    pbar.update(len(batch_ind))\n",
    "                    \n",
    "        else:\n",
    "            for i in bad_batch:\n",
    "                process_url(urls.loc[i], queries, og_objects, query_writer, og_writer,)\n",
    "                pbar.update(1)\n",
    "    pbar.close()"
   ]
  }
 ],
 "metadata": {
  "kernelspec": {
   "display_name": "altmetrics",
   "language": "python",
   "name": "altmetrics"
  },
  "language_info": {
   "codemirror_mode": {
    "name": "ipython",
    "version": 3
   },
   "file_extension": ".py",
   "mimetype": "text/x-python",
   "name": "python",
   "nbconvert_exporter": "python",
   "pygments_lexer": "ipython3",
   "version": "3.5.2"
  }
 },
 "nbformat": 4,
 "nbformat_minor": 2
}
