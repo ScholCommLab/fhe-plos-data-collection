{
 "cells": [
  {
   "cell_type": "code",
   "execution_count": 293,
   "metadata": {},
   "outputs": [],
   "source": [
    "import datetime\n",
    "import configparser\n",
    "import json\n",
    "import math\n",
    "import requests\n",
    "import queue\n",
    "\n",
    "import pandas as pd\n",
    "from tqdm._tqdm_notebook import tqdm_notebook as tqdm\n",
    "from facebook import GraphAPI, GraphAPIError"
   ]
  },
  {
   "cell_type": "markdown",
   "metadata": {},
   "source": [
    "## Step 0 - Define helpers, load configs, etc"
   ]
  },
  {
   "cell_type": "code",
   "execution_count": 291,
   "metadata": {},
   "outputs": [],
   "source": [
    "tqdm.pandas()\n",
    "\n",
    "input_csv = \"../data/plos2016.csv\"\n",
    "urls_csv = \"../data/urls.csv\"\n",
    "query_csv = \"../data/queries.csv\"\n",
    "og_csv = \"../data/og_objects.csv\"\n",
    "\n",
    "batchsize = 50"
   ]
  },
  {
   "cell_type": "code",
   "execution_count": 291,
   "metadata": {},
   "outputs": [],
   "source": [
    "# Load config\n",
    "Config = configparser.ConfigParser()\n",
    "Config.read('../config.cnf')\n",
    "FACEBOOK_APP_ID = Config.get('facebook', 'app_id')\n",
    "FACEBOOK_APP_SECRET = Config.get('facebook', 'app_secret')"
   ]
  },
  {
   "cell_type": "code",
   "execution_count": 325,
   "metadata": {},
   "outputs": [
    {
     "name": "stdout",
     "output_type": "stream",
     "text": [
      "Generated access token: 287299458433880|6Y_ml710QWnU7HBYLWjaneoWVKU\n"
     ]
    }
   ],
   "source": [
    "access_token = get_fb_access_token(FACEBOOK_APP_ID, FACEBOOK_APP_SECRET)\n",
    "temp_token = \"EAACEdEose0cBALqZB4Nfwk1HGrLYNkgT7MiaKcgUdbEaoWOtYX2VzjlIRANN6Q46isNuVjyhsgPuhE81sYAc0hFxS7TyCwy8pTf0u8XcJgrb5GaRkFBmC8npkDBam6qYK8K7DTNasTQN2u1MsZAPlD5Wd2oFzL7Nl3s9md9pDLkqVuSnuFoiOxARb1MDVqTZAk3pjq5KwZDZD\"\n",
    "fb_graph = GraphAPI(temp_token, version=\"2.10\")"
   ]
  },
  {
   "cell_type": "code",
   "execution_count": 3,
   "metadata": {},
   "outputs": [],
   "source": [
    "def get_fb_access_token(app_id, app_secret):\n",
    "    payload = {'grant_type': 'client_credentials',\n",
    "               'client_id': app_id,\n",
    "               'client_secret': app_secret}\n",
    "\n",
    "    try:\n",
    "        response = requests.post('https://graph.facebook.com/oauth/access_token?', params = payload)\n",
    "    except requests.exceptions.RequestException:\n",
    "        raise Exception()\n",
    "\n",
    "    access_token = json.loads(response.text)['access_token']\n",
    "    print(\"Generated access token: \" + access_token)"
   ]
  },
  {
   "cell_type": "code",
   "execution_count": 114,
   "metadata": {},
   "outputs": [],
   "source": [
    "def chunker(seq, size):\n",
    "    return (seq[pos:pos + size] for pos in range(1, len(seq), size))"
   ]
  },
  {
   "cell_type": "code",
   "execution_count": 426,
   "metadata": {},
   "outputs": [],
   "source": [
    "def query_url(url):\n",
    "    result = {}\n",
    "    try:\n",
    "        r = fb_graph.get_object(id=url.strip(), fields=\"engagement,og_object\")\n",
    "    except Exception as e:\n",
    "        result['received'] = datetime.datetime.now()\n",
    "        result['err_msg'] = str(e)\n",
    "        return result\n",
    "        \n",
    "    result['received'] = datetime.datetime.now()\n",
    "    result['err_msg'] = None\n",
    "    result['fb_url'] = r['id']\n",
    "    \n",
    "    if 'og_object' in r:\n",
    "        result[\"og_obj\"] = r['og_object']\n",
    "        result[\"og_eng\"]  = r['engagement']\n",
    "    \n",
    "    return result"
   ]
  },
  {
   "cell_type": "code",
   "execution_count": 427,
   "metadata": {},
   "outputs": [],
   "source": [
    "def query_urls(urls):\n",
    "    results = {}\n",
    "    \n",
    "    try:\n",
    "        responses = fb_graph.get_objects(\n",
    "            ids=[url.strip() for url in urls],\n",
    "            fields=\"engagement,og_object\")\n",
    "    except Exception as e:\n",
    "        raise\n",
    "\n",
    "    received = datetime.datetime.now()\n",
    "\n",
    "    for url, r in responses.items():        \n",
    "        result = {}\n",
    "\n",
    "        result['received'] = received\n",
    "        result['err_msg'] = None\n",
    "        result['fb_url'] = r['id']\n",
    "\n",
    "        if 'og_object' in r:\n",
    "            result[\"og_obj\"] = r['og_object']\n",
    "            result[\"og_eng\"]  = r['engagement']\n",
    "\n",
    "        results[url] = result\n",
    "    return results "
   ]
  },
  {
   "cell_type": "markdown",
   "metadata": {},
   "source": [
    "## Step 1 - Load input data"
   ]
  },
  {
   "cell_type": "code",
   "execution_count": 4,
   "metadata": {},
   "outputs": [],
   "source": [
    "plos2016 = pd.read_csv(input_csv)\n",
    "plos2016 = plos2016.set_index(\"doi\")\n",
    "plos2016['publication_date'] = plos2016['publication_date'].map(lambda x: datetime.datetime.strptime(x, \"%Y-%m-%dT%H:%M:%SZ\"))\n",
    "plos2016['created_on'] = datetime.datetime.now()"
   ]
  },
  {
   "cell_type": "code",
   "execution_count": 477,
   "metadata": {},
   "outputs": [],
   "source": [
    "sample = plos2016.sample(625)"
   ]
  },
  {
   "cell_type": "markdown",
   "metadata": {},
   "source": [
    "## Step 2 - Prepare URLs"
   ]
  },
  {
   "cell_type": "code",
   "execution_count": 478,
   "metadata": {},
   "outputs": [],
   "source": [
    "# Create DF for URLs\n",
    "urls = pd.DataFrame(columns=['doi', 'url', 'type', 'added_on'])"
   ]
  },
  {
   "cell_type": "code",
   "execution_count": 479,
   "metadata": {},
   "outputs": [],
   "source": [
    "templates = {\"doi\": \"https://doi.org/{}\",\n",
    "             \"doi_old\": \"http://dx.doi.org/{}\",\n",
    "             \"landing\": \"http://journals.plos.org/plosone/article?id={}\",\n",
    "             \"authors\": \"http://journals.plos.org/plosone/article/authors?id={}\",\n",
    "             \"metrics\": \"http://journals.plos.org/plosone/article/metrics?id={}\",\n",
    "             \"comments\": \"http://journals.plos.org/plosone/article/comments?id={}\",\n",
    "             \"related\": \"http://journals.plos.org/plosone/article/related?id={}\",\n",
    "             \"pdf\": \"http://journals.plos.org/plosone/article/file?id={}&type=printable\"}"
   ]
  },
  {
   "cell_type": "code",
   "execution_count": 480,
   "metadata": {},
   "outputs": [
    {
     "data": {
      "application/vnd.jupyter.widget-view+json": {
       "model_id": "f4b1961720084b80bb5e06b2bf7e0eab",
       "version_major": 2,
       "version_minor": 0
      },
      "text/plain": [
       "HBox(children=(IntProgress(value=0, max=625), HTML(value='')))"
      ]
     },
     "metadata": {},
     "output_type": "display_data"
    },
    {
     "name": "stdout",
     "output_type": "stream",
     "text": [
      "\n"
     ]
    }
   ],
   "source": [
    "i = 0\n",
    "for doi in tqdm(sample.index.tolist()):\n",
    "    for type, template in templates.items():\n",
    "        urls.loc[i] = [doi, template.format(doi), type, datetime.datetime.now()]\n",
    "        i = i + 1"
   ]
  },
  {
   "cell_type": "markdown",
   "metadata": {},
   "source": [
    "## Step 3 - Run queries"
   ]
  },
  {
   "cell_type": "code",
   "execution_count": 481,
   "metadata": {},
   "outputs": [],
   "source": [
    "# Create DF for queries\n",
    "query_columns = [\"url_id\", \"error_msg\", \"queried_at\"]\n",
    "queries = pd.DataFrame(columns=query_columns)\n",
    "\n",
    "# Create DF for graph objects\n",
    "og_columns = [\"og_id\", \"query_id\", \"received_at\", \"fb_url\",\n",
    "              \"og_description\", \"og_title\", \"og_type\", \"og_updated_time\",\n",
    "              \"reactions\", \"shares\", \"comments\", \"plugin_comments\"]\n",
    "og_objects = pd.DataFrame(columns=og_columns)"
   ]
  },
  {
   "cell_type": "code",
   "execution_count": 483,
   "metadata": {},
   "outputs": [],
   "source": [
    "def process_result(url_id, result, queries, og_objects, query_f, og_f):\n",
    "    query_id = queries.shape[0]\n",
    "    queries.loc[query_id] = [url_id, result['err_msg'], str(now)]\n",
    "    queries.loc[[query_id]][query_columns].to_csv(query_f, header=False, )\n",
    "    \n",
    "    # query_f.write([query_id, url_id, result['err_msg'], str(now)])\n",
    "                             \n",
    "    # if result, record og object\n",
    "    if 'og_obj' in result:\n",
    "        i = og_objects.shape[0]\n",
    "\n",
    "        og_id = result['og_obj']['id']\n",
    "        reactions = int(result['og_eng']['reaction_count'])\n",
    "        shares = int(result['og_eng']['share_count'])\n",
    "        comments = int(result['og_eng']['comment_count'])\n",
    "        plugin_comments = int(result['og_eng']['comment_plugin_count'])\n",
    "\n",
    "        for field in ['description', 'title', 'type', 'updated_time']:\n",
    "            try:\n",
    "                og_objects.loc[i, \"og_{}\".format(field)] = result['og_obj'][field]\n",
    "            except:\n",
    "                og_objects.loc[i, \"og_{}\".format(field)] = None\n",
    "        \n",
    "        og_objects.loc[i, \"fb_url\"] = result[\"fb_url\"]\n",
    "        og_objects.loc[i, \"og_id\"] = og_id\n",
    "        og_objects.loc[i, \"query_id\"] = query_id\n",
    "        og_objects.loc[i, \"received_at\"] = str(result['received'])\n",
    "        og_objects.loc[i, [\"reactions\", \"shares\", \"comments\", \"plugin_comments\"]] = [reactions, shares, comments, plugin_comments]\n",
    "        \n",
    "        og_objects.loc[[i]][og_columns].to_csv(og_f, header=False)\n",
    "        \n",
    "        # og_f.write([i]+og_objects.loc[i].tolist())"
   ]
  },
  {
   "cell_type": "code",
   "execution_count": 484,
   "metadata": {},
   "outputs": [],
   "source": [
    "def process_url(batch, queries, og_objects, query_f, og_f):\n",
    "    \"\"\"\"\"\"\n",
    "    now = datetime.datetime.now()\n",
    "    result = query_url(batch.url)\n",
    "    process_result(batch.name, result, queries, og_objects, query_f, og_f)"
   ]
  },
  {
   "cell_type": "code",
   "execution_count": 485,
   "metadata": {},
   "outputs": [],
   "source": [
    "def process_batch(batch, queries, og_objects, query_f, og_f, failed_batches):\n",
    "    \"\"\"\"\"\"\n",
    "    try:\n",
    "        now = datetime.datetime.now()\n",
    "        results = query_urls(batch.url.tolist())\n",
    "\n",
    "        # successful batch query\n",
    "        for url, result in results.items():\n",
    "            url_id = batch[batch.url == url].index[0]\n",
    "            process_result(url_id, result, queries, og_objects, query_f, og_f) \n",
    "        \n",
    "    # failed batch query\n",
    "    except GraphAPIError as e: \n",
    "        failed_batches.put((e, batch_ind))"
   ]
  },
  {
   "cell_type": "code",
   "execution_count": 486,
   "metadata": {},
   "outputs": [
    {
     "data": {
      "application/vnd.jupyter.widget-view+json": {
       "model_id": "6c94cfded113492883f58de243db4223",
       "version_major": 2,
       "version_minor": 0
      },
      "text/plain": [
       "HBox(children=(IntProgress(value=0, description='Batches'), HTML(value='')))"
      ]
     },
     "metadata": {},
     "output_type": "display_data"
    },
    {
     "name": "stdout",
     "output_type": "stream",
     "text": [
      "\n"
     ]
    },
    {
     "data": {
      "application/vnd.jupyter.widget-view+json": {
       "model_id": "cc1333d21c17489ca345666770533aaa",
       "version_major": 2,
       "version_minor": 0
      },
      "text/plain": [
       "HBox(children=(IntProgress(value=1, bar_style='info', description='Failed batches', max=1), HTML(value='')))"
      ]
     },
     "metadata": {},
     "output_type": "display_data"
    },
    {
     "name": "stdout",
     "output_type": "stream",
     "text": [
      "\n"
     ]
    }
   ],
   "source": [
    "with open(query_csv, \"w\") as query_f, open(og_csv, \"w\") as og_f:\n",
    "    # Write column labels \n",
    "    queries.loc[[]].to_csv(query_f)\n",
    "    og_objects.loc[[]].to_csv(og_f)\n",
    "\n",
    "    # Keep track of indices that failed during batchmode\n",
    "    failed_batches = queue.Queue()\n",
    "\n",
    "    # Initialise indices for batches\n",
    "    batch_indices = chunker(urls.index, batchsize)\n",
    "\n",
    "    # Keep appending in batches of 50\n",
    "    for batch_ind in tqdm(batch_indices,\n",
    "                          total=len(urls)//batchsize,\n",
    "                          desc=\"Batches\"):\n",
    "        batch = urls.loc[batch_ind] \n",
    "        process_batch(batch, queries, og_objects, query_f, og_f, failed_batches)\n",
    "    \n",
    "    # Process failed batches\n",
    "    pbar = tqdm(total=failed_batches.qsize()*batchsize,\n",
    "                desc=\"Failed batches\")\n",
    "    while not failed_batches.empty():\n",
    "        e, bad_batch = failed_batches.get()\n",
    "        if len(bad_batch) > 4:\n",
    "            batch_indices = chunker(bad_batch, math.ceil(len(bad_batch)/2))\n",
    "                \n",
    "            for batch_ind in batch_indices:\n",
    "                batch = urls.iloc[batch_ind]\n",
    "                \n",
    "                q_len = failed_batches.qsize()\n",
    "                process_batch(batch, queries, og_objects, query_f, og_f, failed_batches)\n",
    "                if failed_batches.qsize() == q_len:\n",
    "                    pbar.update(len(batch_ind))\n",
    "                    \n",
    "        else:\n",
    "            for i in bad_batch:\n",
    "                process_url(urls.loc[i], queries, og_objects, query_f, og_f)\n",
    "                pbar.update(1)\n",
    "    pbar.close()"
   ]
  },
  {
   "cell_type": "code",
   "execution_count": 487,
   "metadata": {},
   "outputs": [],
   "source": [
    "og_objects[[\"reactions\", \"shares\", \"comments\", \"plugin_comments\"]] = og_objects[[\"reactions\", \"shares\", \"comments\", \"plugin_comments\"]].astype(int)"
   ]
  },
  {
   "cell_type": "markdown",
   "metadata": {},
   "source": [
    "## Step 4 - Analysis"
   ]
  },
  {
   "cell_type": "code",
   "execution_count": 489,
   "metadata": {},
   "outputs": [],
   "source": [
    "a = og_objects.merge(queries, left_on=\"query_id\", right_index=True, how=\"left\")\n",
    "b = a.merge(urls, left_on=\"url_id\", right_index=True, how=\"left\")\n",
    "c = b.merge(sample, left_on=\"doi\", right_index=True, how=\"left\")"
   ]
  },
  {
   "cell_type": "code",
   "execution_count": 500,
   "metadata": {},
   "outputs": [],
   "source": [
    "dupl_queries = og_objects[og_objects.og_id.duplicated(keep=False)].query_id"
   ]
  },
  {
   "cell_type": "code",
   "execution_count": 502,
   "metadata": {},
   "outputs": [
    {
     "data": {
      "text/html": [
       "<div>\n",
       "<style>\n",
       "    .dataframe thead tr:only-child th {\n",
       "        text-align: right;\n",
       "    }\n",
       "\n",
       "    .dataframe thead th {\n",
       "        text-align: left;\n",
       "    }\n",
       "\n",
       "    .dataframe tbody tr th {\n",
       "        vertical-align: top;\n",
       "    }\n",
       "</style>\n",
       "<table border=\"1\" class=\"dataframe\">\n",
       "  <thead>\n",
       "    <tr style=\"text-align: right;\">\n",
       "      <th></th>\n",
       "      <th>shares</th>\n",
       "      <th>size</th>\n",
       "    </tr>\n",
       "    <tr>\n",
       "      <th>type</th>\n",
       "      <th></th>\n",
       "      <th></th>\n",
       "    </tr>\n",
       "  </thead>\n",
       "  <tbody>\n",
       "    <tr>\n",
       "      <th>landing</th>\n",
       "      <td>1.659574</td>\n",
       "      <td>517</td>\n",
       "    </tr>\n",
       "    <tr>\n",
       "      <th>pdf</th>\n",
       "      <td>0.102564</td>\n",
       "      <td>39</td>\n",
       "    </tr>\n",
       "  </tbody>\n",
       "</table>\n",
       "</div>"
      ],
      "text/plain": [
       "           shares  size\n",
       "type                   \n",
       "landing  1.659574   517\n",
       "pdf      0.102564    39"
      ]
     },
     "execution_count": 502,
     "metadata": {},
     "output_type": "execute_result"
    }
   ],
   "source": [
    "mean = b[~b.query_id.isin(dupl_queries)].groupby(\"type\")[['shares']].mean()\n",
    "count = b[~b.query_id.isin(dupl_queries)].groupby(\"type\")[['shares']].count()\n",
    "\n",
    "mean['size'] = b.groupby(\"type\").size()\n",
    "mean"
   ]
  },
  {
   "cell_type": "code",
   "execution_count": 373,
   "metadata": {},
   "outputs": [
    {
     "data": {
      "text/html": [
       "<div>\n",
       "<style>\n",
       "    .dataframe thead tr:only-child th {\n",
       "        text-align: right;\n",
       "    }\n",
       "\n",
       "    .dataframe thead th {\n",
       "        text-align: left;\n",
       "    }\n",
       "\n",
       "    .dataframe tbody tr th {\n",
       "        vertical-align: top;\n",
       "    }\n",
       "</style>\n",
       "<table border=\"1\" class=\"dataframe\">\n",
       "  <thead>\n",
       "    <tr style=\"text-align: right;\">\n",
       "      <th></th>\n",
       "      <th>reactions</th>\n",
       "      <th>shares</th>\n",
       "      <th>comments</th>\n",
       "      <th>plugin_comments</th>\n",
       "    </tr>\n",
       "    <tr>\n",
       "      <th>type</th>\n",
       "      <th></th>\n",
       "      <th></th>\n",
       "      <th></th>\n",
       "      <th></th>\n",
       "    </tr>\n",
       "  </thead>\n",
       "  <tbody>\n",
       "    <tr>\n",
       "      <th>authors</th>\n",
       "      <td>68.000000</td>\n",
       "      <td>17.000000</td>\n",
       "      <td>18.000000</td>\n",
       "      <td>0.0</td>\n",
       "    </tr>\n",
       "    <tr>\n",
       "      <th>doi</th>\n",
       "      <td>68.000000</td>\n",
       "      <td>17.000000</td>\n",
       "      <td>18.000000</td>\n",
       "      <td>0.0</td>\n",
       "    </tr>\n",
       "    <tr>\n",
       "      <th>doi_old</th>\n",
       "      <td>92.666667</td>\n",
       "      <td>8.000000</td>\n",
       "      <td>8.333333</td>\n",
       "      <td>0.0</td>\n",
       "    </tr>\n",
       "    <tr>\n",
       "      <th>landing</th>\n",
       "      <td>30.888889</td>\n",
       "      <td>2.777778</td>\n",
       "      <td>2.777778</td>\n",
       "      <td>0.0</td>\n",
       "    </tr>\n",
       "    <tr>\n",
       "      <th>pdf</th>\n",
       "      <td>0.000000</td>\n",
       "      <td>0.000000</td>\n",
       "      <td>0.000000</td>\n",
       "      <td>0.0</td>\n",
       "    </tr>\n",
       "  </tbody>\n",
       "</table>\n",
       "</div>"
      ],
      "text/plain": [
       "         reactions     shares   comments  plugin_comments\n",
       "type                                                     \n",
       "authors  68.000000  17.000000  18.000000              0.0\n",
       "doi      68.000000  17.000000  18.000000              0.0\n",
       "doi_old  92.666667   8.000000   8.333333              0.0\n",
       "landing  30.888889   2.777778   2.777778              0.0\n",
       "pdf       0.000000   0.000000   0.000000              0.0"
      ]
     },
     "execution_count": 373,
     "metadata": {},
     "output_type": "execute_result"
    }
   ],
   "source": [
    "b.groupby(\"type\")[['reactions', 'shares', 'comments', 'plugin_comments']].mean()"
   ]
  },
  {
   "cell_type": "code",
   "execution_count": 498,
   "metadata": {},
   "outputs": [
    {
     "data": {
      "text/html": [
       "<div>\n",
       "<style>\n",
       "    .dataframe thead tr:only-child th {\n",
       "        text-align: right;\n",
       "    }\n",
       "\n",
       "    .dataframe thead th {\n",
       "        text-align: left;\n",
       "    }\n",
       "\n",
       "    .dataframe tbody tr th {\n",
       "        vertical-align: top;\n",
       "    }\n",
       "</style>\n",
       "<table border=\"1\" class=\"dataframe\">\n",
       "  <thead>\n",
       "    <tr style=\"text-align: right;\">\n",
       "      <th></th>\n",
       "      <th>type</th>\n",
       "      <th>shares</th>\n",
       "      <th>fb_url</th>\n",
       "    </tr>\n",
       "  </thead>\n",
       "  <tbody>\n",
       "    <tr>\n",
       "      <th>343</th>\n",
       "      <td>doi_old</td>\n",
       "      <td>100</td>\n",
       "      <td>http://dx.doi.org/10.1371/journal.pone.0146621</td>\n",
       "    </tr>\n",
       "    <tr>\n",
       "      <th>347</th>\n",
       "      <td>landing</td>\n",
       "      <td>100</td>\n",
       "      <td>http://journals.plos.org/plosone/article?id=10...</td>\n",
       "    </tr>\n",
       "    <tr>\n",
       "      <th>349</th>\n",
       "      <td>metrics</td>\n",
       "      <td>100</td>\n",
       "      <td>http://journals.plos.org/plosone/article/metri...</td>\n",
       "    </tr>\n",
       "  </tbody>\n",
       "</table>\n",
       "</div>"
      ],
      "text/plain": [
       "        type  shares                                             fb_url\n",
       "343  doi_old     100     http://dx.doi.org/10.1371/journal.pone.0146621\n",
       "347  landing     100  http://journals.plos.org/plosone/article?id=10...\n",
       "349  metrics     100  http://journals.plos.org/plosone/article/metri..."
      ]
     },
     "execution_count": 498,
     "metadata": {},
     "output_type": "execute_result"
    }
   ],
   "source": [
    "c[c.doi==\"10.1371/journal.pone.0146621\"][[\"type\", \"shares\", \"fb_url\"]]"
   ]
  },
  {
   "cell_type": "code",
   "execution_count": 493,
   "metadata": {},
   "outputs": [
    {
     "data": {
      "text/html": [
       "<div>\n",
       "<style>\n",
       "    .dataframe thead tr:only-child th {\n",
       "        text-align: right;\n",
       "    }\n",
       "\n",
       "    .dataframe thead th {\n",
       "        text-align: left;\n",
       "    }\n",
       "\n",
       "    .dataframe tbody tr th {\n",
       "        vertical-align: top;\n",
       "    }\n",
       "</style>\n",
       "<table border=\"1\" class=\"dataframe\">\n",
       "  <thead>\n",
       "    <tr style=\"text-align: right;\">\n",
       "      <th></th>\n",
       "      <th>shares</th>\n",
       "    </tr>\n",
       "    <tr>\n",
       "      <th>doi</th>\n",
       "      <th></th>\n",
       "    </tr>\n",
       "  </thead>\n",
       "  <tbody>\n",
       "    <tr>\n",
       "      <th>10.1371/journal.pone.0164733</th>\n",
       "      <td>381</td>\n",
       "    </tr>\n",
       "    <tr>\n",
       "      <th>10.1371/journal.pone.0146621</th>\n",
       "      <td>300</td>\n",
       "    </tr>\n",
       "    <tr>\n",
       "      <th>10.1371/journal.pone.0163477</th>\n",
       "      <td>260</td>\n",
       "    </tr>\n",
       "    <tr>\n",
       "      <th>10.1371/journal.pone.0154218</th>\n",
       "      <td>124</td>\n",
       "    </tr>\n",
       "    <tr>\n",
       "      <th>10.1371/journal.pone.0156752</th>\n",
       "      <td>123</td>\n",
       "    </tr>\n",
       "  </tbody>\n",
       "</table>\n",
       "</div>"
      ],
      "text/plain": [
       "                              shares\n",
       "doi                                 \n",
       "10.1371/journal.pone.0164733     381\n",
       "10.1371/journal.pone.0146621     300\n",
       "10.1371/journal.pone.0163477     260\n",
       "10.1371/journal.pone.0154218     124\n",
       "10.1371/journal.pone.0156752     123"
      ]
     },
     "execution_count": 493,
     "metadata": {},
     "output_type": "execute_result"
    }
   ],
   "source": [
    "# Total shares by article\n",
    "c.groupby([\"doi\"])[['shares']].sum().sort_values(\"shares\", ascending=False).head()"
   ]
  }
 ],
 "metadata": {
  "kernelspec": {
   "display_name": "altmetrics",
   "language": "python",
   "name": "altmetrics"
  },
  "language_info": {
   "codemirror_mode": {
    "name": "ipython",
    "version": 3
   },
   "file_extension": ".py",
   "mimetype": "text/x-python",
   "name": "python",
   "nbconvert_exporter": "python",
   "pygments_lexer": "ipython3",
   "version": "3.5.2"
  }
 },
 "nbformat": 4,
 "nbformat_minor": 2
}
