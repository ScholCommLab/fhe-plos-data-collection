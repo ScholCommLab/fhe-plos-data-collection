{
 "cells": [
  {
   "cell_type": "markdown",
   "metadata": {},
   "source": [
    "# Analysis"
   ]
  },
  {
   "cell_type": "code",
   "execution_count": 1,
   "metadata": {},
   "outputs": [],
   "source": [
    "import pandas as pd\n",
    "import json\n",
    "import matplotlib.pyplot as plt\n",
    "import seaborn as sns\n",
    "import numpy as np\n",
    "from matplotlib_venn import venn2, venn3"
   ]
  },
  {
   "cell_type": "code",
   "execution_count": 2,
   "metadata": {},
   "outputs": [],
   "source": [
    "sns.set_style(\"darkgrid\")"
   ]
  },
  {
   "cell_type": "code",
   "execution_count": 244,
   "metadata": {},
   "outputs": [],
   "source": [
    "input_csv = \"../data/plos2016.csv\"\n",
    "urls_csv = \"../data/urls.csv\"\n",
    "query_csv = \"../data/queries.csv\"\n",
    "og_csv = \"../data/og_objects.csv\"\n",
    "altmetric_csv = \"../data/altmetric.csv\""
   ]
  },
  {
   "cell_type": "code",
   "execution_count": 245,
   "metadata": {},
   "outputs": [],
   "source": [
    "articles = pd.read_csv(input_csv, index_col=\"doi\", parse_dates=['publication_date'])\n",
    "urls = pd.read_csv(urls_csv, index_col=\"url_id\", parse_dates=['added_on'])\n",
    "queries = pd.read_csv(query_csv, index_col=\"query_id\", parse_dates=['queried_at'])\n",
    "og_objects = pd.read_csv(og_csv, index_col=\"og_id\", parse_dates=['og_updated_time', 'received_at'])"
   ]
  },
  {
   "cell_type": "code",
   "execution_count": 246,
   "metadata": {},
   "outputs": [],
   "source": [
    "def extract_shares(x):\n",
    "    try:\n",
    "        s = json.loads(x)['counts']['facebook']['posts_count']\n",
    "    except:\n",
    "        s = None\n",
    "    return s\n",
    "\n",
    "am = pd.read_csv(altmetric_csv, index_col=\"doi\")\n",
    "am['shares'] = am['am_resp'].map(extract_shares)"
   ]
  },
  {
   "cell_type": "code",
   "execution_count": 247,
   "metadata": {},
   "outputs": [],
   "source": [
    "num_cols = ['reactions', 'shares', 'comments', 'plugin_comments']\n",
    "og_objects[num_cols] = og_objects[num_cols].astype(int)"
   ]
  },
  {
   "cell_type": "code",
   "execution_count": 248,
   "metadata": {},
   "outputs": [],
   "source": [
    "a = og_objects.merge(queries, left_on=\"query_id\", right_index=True, how=\"left\")"
   ]
  },
  {
   "cell_type": "code",
   "execution_count": 249,
   "metadata": {},
   "outputs": [],
   "source": [
    "b = a.merge(urls, left_on=\"url_id\", right_index=True, how=\"left\")"
   ]
  },
  {
   "cell_type": "code",
   "execution_count": 250,
   "metadata": {},
   "outputs": [],
   "source": [
    "c = b.merge(articles, left_on=\"doi\", right_index=True, how=\"left\")"
   ]
  },
  {
   "cell_type": "markdown",
   "metadata": {},
   "source": [
    "## Statistics about link distribution and sharing"
   ]
  },
  {
   "cell_type": "code",
   "execution_count": 251,
   "metadata": {},
   "outputs": [
    {
     "data": {
      "text/plain": [
       "type\n",
       "authors       102\n",
       "comments       24\n",
       "doi           224\n",
       "doi_old      1730\n",
       "landing     12953\n",
       "metrics      1213\n",
       "pdf           667\n",
       "related        33\n",
       "dtype: int64"
      ]
     },
     "execution_count": 251,
     "metadata": {},
     "output_type": "execute_result"
    }
   ],
   "source": [
    "# Link types that were shared once at least\n",
    "c.groupby(\"type\").size()"
   ]
  },
  {
   "cell_type": "code",
   "execution_count": 253,
   "metadata": {},
   "outputs": [
    {
     "data": {
      "text/plain": [
       "1    12369\n",
       "2      637\n",
       "3        4\n",
       "4        1\n",
       "dtype: int64"
      ]
     },
     "execution_count": 253,
     "metadata": {},
     "output_type": "execute_result"
    }
   ],
   "source": [
    "diff_ogids = c.reset_index().groupby([\"doi\", \"og_id\"]).size().groupby(['doi']).count()\n",
    "diff_ogids.value_counts()"
   ]
  },
  {
   "cell_type": "code",
   "execution_count": 254,
   "metadata": {},
   "outputs": [
    {
     "data": {
      "text/plain": [
       "1    9653\n",
       "2    2888\n",
       "3     389\n",
       "4      66\n",
       "5       9\n",
       "7       3\n",
       "6       2\n",
       "8       1\n",
       "Name: og_id, dtype: int64"
      ]
     },
     "execution_count": 254,
     "metadata": {},
     "output_type": "execute_result"
    }
   ],
   "source": [
    "diff_links = c.reset_index().groupby([\"doi\"])['og_id'].size()\n",
    "diff_links.value_counts()"
   ]
  },
  {
   "cell_type": "markdown",
   "metadata": {},
   "source": [
    "## Remove duplicate OpenGraph objects"
   ]
  },
  {
   "cell_type": "code",
   "execution_count": 255,
   "metadata": {},
   "outputs": [],
   "source": [
    "fb_shares = c.reset_index().groupby([\"doi\", \"og_id\"]).first().groupby([\"doi\"]).sum()['shares']\n",
    "am_shares = am['shares'].dropna()\n",
    "\n",
    "fb_shares.name = \"fb0\"\n",
    "am_shares.name = \"am\"\n",
    "# fb_shares = fb_shares[fb_shares>0]"
   ]
  },
  {
   "cell_type": "code",
   "execution_count": 256,
   "metadata": {},
   "outputs": [
    {
     "name": "stderr",
     "output_type": "stream",
     "text": [
      "/home/asura/.virtualenvs/altmetrics/lib/python3.5/site-packages/ipykernel_launcher.py:1: FutureWarning: Sorting because non-concatenation axis is not aligned. A future version\n",
      "of pandas will change to not sort by default.\n",
      "\n",
      "To accept the future behavior, pass 'sort=False'.\n",
      "\n",
      "To retain the current behavior and silence the warning, pass 'sort=True'.\n",
      "\n",
      "  \"\"\"Entry point for launching an IPython kernel.\n"
     ]
    },
    {
     "data": {
      "text/html": [
       "<div>\n",
       "<style scoped>\n",
       "    .dataframe tbody tr th:only-of-type {\n",
       "        vertical-align: middle;\n",
       "    }\n",
       "\n",
       "    .dataframe tbody tr th {\n",
       "        vertical-align: top;\n",
       "    }\n",
       "\n",
       "    .dataframe thead th {\n",
       "        text-align: right;\n",
       "    }\n",
       "</style>\n",
       "<table border=\"1\" class=\"dataframe\">\n",
       "  <thead>\n",
       "    <tr style=\"text-align: right;\">\n",
       "      <th></th>\n",
       "      <th>fb0</th>\n",
       "      <th>am</th>\n",
       "      <th>fb</th>\n",
       "      <th>diff</th>\n",
       "    </tr>\n",
       "  </thead>\n",
       "  <tbody>\n",
       "    <tr>\n",
       "      <th>10.1371/journal.pone.0083032</th>\n",
       "      <td>9.0</td>\n",
       "      <td>NaN</td>\n",
       "      <td>9.0</td>\n",
       "      <td>NaN</td>\n",
       "    </tr>\n",
       "    <tr>\n",
       "      <th>10.1371/journal.pone.0103617</th>\n",
       "      <td>0.0</td>\n",
       "      <td>NaN</td>\n",
       "      <td>NaN</td>\n",
       "      <td>NaN</td>\n",
       "    </tr>\n",
       "    <tr>\n",
       "      <th>10.1371/journal.pone.0109913</th>\n",
       "      <td>0.0</td>\n",
       "      <td>NaN</td>\n",
       "      <td>NaN</td>\n",
       "      <td>NaN</td>\n",
       "    </tr>\n",
       "    <tr>\n",
       "      <th>10.1371/journal.pone.0117805</th>\n",
       "      <td>0.0</td>\n",
       "      <td>NaN</td>\n",
       "      <td>NaN</td>\n",
       "      <td>NaN</td>\n",
       "    </tr>\n",
       "    <tr>\n",
       "      <th>10.1371/journal.pone.0127505</th>\n",
       "      <td>3.0</td>\n",
       "      <td>NaN</td>\n",
       "      <td>3.0</td>\n",
       "      <td>NaN</td>\n",
       "    </tr>\n",
       "  </tbody>\n",
       "</table>\n",
       "</div>"
      ],
      "text/plain": [
       "                              fb0  am   fb  diff\n",
       "10.1371/journal.pone.0083032  9.0 NaN  9.0   NaN\n",
       "10.1371/journal.pone.0103617  0.0 NaN  NaN   NaN\n",
       "10.1371/journal.pone.0109913  0.0 NaN  NaN   NaN\n",
       "10.1371/journal.pone.0117805  0.0 NaN  NaN   NaN\n",
       "10.1371/journal.pone.0127505  3.0 NaN  3.0   NaN"
      ]
     },
     "execution_count": 256,
     "metadata": {},
     "output_type": "execute_result"
    }
   ],
   "source": [
    "s = pd.concat([fb_shares, am_shares], axis=1)\n",
    "s['fb'] = s.fb0.replace(0, np.nan)\n",
    "s['diff'] = s.fb - s.am\n",
    "s.head()"
   ]
  },
  {
   "cell_type": "code",
   "execution_count": 257,
   "metadata": {},
   "outputs": [],
   "source": [
    "# Remove outliers beyond Q3+1.5*IQR\n",
    "Q1 = s['diff'].quantile(0.25)\n",
    "Q3 = s['diff'].quantile(0.75)\n",
    "IQR = Q3 - Q1\n",
    "y_max = Q3 + 1.5 * IQR\n",
    "\n",
    "s['diff-no-outlier'] = s['diff'].where(s['diff'] <= y_max, np.nan)"
   ]
  },
  {
   "cell_type": "code",
   "execution_count": 258,
   "metadata": {},
   "outputs": [
    {
     "data": {
      "text/html": [
       "<div>\n",
       "<style scoped>\n",
       "    .dataframe tbody tr th:only-of-type {\n",
       "        vertical-align: middle;\n",
       "    }\n",
       "\n",
       "    .dataframe tbody tr th {\n",
       "        vertical-align: top;\n",
       "    }\n",
       "\n",
       "    .dataframe thead th {\n",
       "        text-align: right;\n",
       "    }\n",
       "</style>\n",
       "<table border=\"1\" class=\"dataframe\">\n",
       "  <thead>\n",
       "    <tr style=\"text-align: right;\">\n",
       "      <th></th>\n",
       "      <th>fb0</th>\n",
       "      <th>am</th>\n",
       "      <th>fb</th>\n",
       "      <th>diff</th>\n",
       "      <th>diff-no-outlier</th>\n",
       "    </tr>\n",
       "  </thead>\n",
       "  <tbody>\n",
       "    <tr>\n",
       "      <th>count</th>\n",
       "      <td>13011.000000</td>\n",
       "      <td>3202.000000</td>\n",
       "      <td>5635.000000</td>\n",
       "      <td>1958.000000</td>\n",
       "      <td>1720.000000</td>\n",
       "    </tr>\n",
       "    <tr>\n",
       "      <th>mean</th>\n",
       "      <td>3.294827</td>\n",
       "      <td>2.332605</td>\n",
       "      <td>7.607631</td>\n",
       "      <td>14.827375</td>\n",
       "      <td>2.745349</td>\n",
       "    </tr>\n",
       "    <tr>\n",
       "      <th>std</th>\n",
       "      <td>47.791389</td>\n",
       "      <td>4.266826</td>\n",
       "      <td>72.397668</td>\n",
       "      <td>119.667790</td>\n",
       "      <td>4.234025</td>\n",
       "    </tr>\n",
       "    <tr>\n",
       "      <th>min</th>\n",
       "      <td>0.000000</td>\n",
       "      <td>1.000000</td>\n",
       "      <td>1.000000</td>\n",
       "      <td>-24.000000</td>\n",
       "      <td>-24.000000</td>\n",
       "    </tr>\n",
       "    <tr>\n",
       "      <th>25%</th>\n",
       "      <td>0.000000</td>\n",
       "      <td>1.000000</td>\n",
       "      <td>1.000000</td>\n",
       "      <td>0.000000</td>\n",
       "      <td>0.000000</td>\n",
       "    </tr>\n",
       "    <tr>\n",
       "      <th>50%</th>\n",
       "      <td>0.000000</td>\n",
       "      <td>1.000000</td>\n",
       "      <td>2.000000</td>\n",
       "      <td>2.000000</td>\n",
       "      <td>1.000000</td>\n",
       "    </tr>\n",
       "    <tr>\n",
       "      <th>75%</th>\n",
       "      <td>1.000000</td>\n",
       "      <td>2.000000</td>\n",
       "      <td>4.000000</td>\n",
       "      <td>7.000000</td>\n",
       "      <td>4.000000</td>\n",
       "    </tr>\n",
       "    <tr>\n",
       "      <th>max</th>\n",
       "      <td>4181.000000</td>\n",
       "      <td>79.000000</td>\n",
       "      <td>4181.000000</td>\n",
       "      <td>4157.000000</td>\n",
       "      <td>17.000000</td>\n",
       "    </tr>\n",
       "  </tbody>\n",
       "</table>\n",
       "</div>"
      ],
      "text/plain": [
       "                fb0           am           fb         diff  diff-no-outlier\n",
       "count  13011.000000  3202.000000  5635.000000  1958.000000      1720.000000\n",
       "mean       3.294827     2.332605     7.607631    14.827375         2.745349\n",
       "std       47.791389     4.266826    72.397668   119.667790         4.234025\n",
       "min        0.000000     1.000000     1.000000   -24.000000       -24.000000\n",
       "25%        0.000000     1.000000     1.000000     0.000000         0.000000\n",
       "50%        0.000000     1.000000     2.000000     2.000000         1.000000\n",
       "75%        1.000000     2.000000     4.000000     7.000000         4.000000\n",
       "max     4181.000000    79.000000  4181.000000  4157.000000        17.000000"
      ]
     },
     "execution_count": 258,
     "metadata": {},
     "output_type": "execute_result"
    }
   ],
   "source": [
    "s.describe()"
   ]
  },
  {
   "cell_type": "code",
   "execution_count": 259,
   "metadata": {},
   "outputs": [
    {
     "data": {
      "image/png": "[encoded data removed]",
      "text/plain": [
       "<matplotlib.figure.Figure at 0x7f5002517e48>"
      ]
     },
     "metadata": {},
     "output_type": "display_data"
    }
   ],
   "source": [
    "am_set = set(s[s.am.notnull()].index.tolist())\n",
    "fb_set = set(s[s.fb.notnull()].index.tolist())\n",
    "fb0_set = set(s[s.fb0.notnull()].index.tolist())\n",
    "\n",
    "venn2([fb_set, am_set], set_labels = ('Facebook', 'Altmetric.com'));"
   ]
  },
  {
   "cell_type": "code",
   "execution_count": 260,
   "metadata": {},
   "outputs": [
    {
     "data": {
      "image/png": "[encoded data removed]",
      "text/plain": [
       "<matplotlib.figure.Figure at 0x7f4ffd8cfcc0>"
      ]
     },
     "metadata": {},
     "output_type": "display_data"
    }
   ],
   "source": [
    "venn3([fb_set, fb0_set, am_set], set_labels = ('Facebook', 'Facebook with zeros', 'Altmetric.com'));"
   ]
  },
  {
   "cell_type": "code",
   "execution_count": 153,
   "metadata": {},
   "outputs": [],
   "source": [
    "# diff = s['diff']\n",
    "diff = s['diff-no-outlier'].dropna()"
   ]
  },
  {
   "cell_type": "code",
   "execution_count": 154,
   "metadata": {},
   "outputs": [
    {
     "data": {
      "text/plain": [
       "<matplotlib.axes._subplots.AxesSubplot at 0x7f5012012780>"
      ]
     },
     "execution_count": 154,
     "metadata": {},
     "output_type": "execute_result"
    },
    {
     "data": {
      "image/png": "[encoded data removed]",
      "text/plain": [
       "<matplotlib.figure.Figure at 0x7f500a9fc780>"
      ]
     },
     "metadata": {},
     "output_type": "display_data"
    }
   ],
   "source": [
    "sns.violinplot(y=diff)"
   ]
  },
  {
   "cell_type": "code",
   "execution_count": 155,
   "metadata": {},
   "outputs": [
    {
     "data": {
      "text/plain": [
       "<matplotlib.axes._subplots.AxesSubplot at 0x7f504d75ff60>"
      ]
     },
     "execution_count": 155,
     "metadata": {},
     "output_type": "execute_result"
    },
    {
     "data": {
      "image/png": "[encoded data removed]",
      "text/plain": [
       "<matplotlib.figure.Figure at 0x7f5012058da0>"
      ]
     },
     "metadata": {},
     "output_type": "display_data"
    }
   ],
   "source": [
    "sns.distplot(diff, hist=False, rug=True, norm_hist=True);"
   ]
  },
  {
   "cell_type": "code",
   "execution_count": 201,
   "metadata": {},
   "outputs": [
    {
     "data": {
      "text/plain": [
       "<matplotlib.axes._subplots.AxesSubplot at 0x7f5012304748>"
      ]
     },
     "execution_count": 201,
     "metadata": {},
     "output_type": "execute_result"
    },
    {
     "data": {
      "image/png": "[encoded data removed]",
      "text/plain": [
       "<matplotlib.figure.Figure at 0x7f50122ebc88>"
      ]
     },
     "metadata": {},
     "output_type": "display_data"
    }
   ],
   "source": [
    "sns.stripplot(y=diff, jitter=True, alpha=.25,)"
   ]
  },
  {
   "cell_type": "code",
   "execution_count": 172,
   "metadata": {},
   "outputs": [],
   "source": [
    "pdf = s.melt(value_vars=[\"fb\",\"am\"], var_name=\"source\")"
   ]
  },
  {
   "cell_type": "code",
   "execution_count": 200,
   "metadata": {},
   "outputs": [
    {
     "data": {
      "text/plain": [
       "<matplotlib.axes._subplots.AxesSubplot at 0x7f50122f6748>"
      ]
     },
     "execution_count": 200,
     "metadata": {},
     "output_type": "execute_result"
    },
    {
     "data": {
      "image/png": "[encoded data removed]",
      "text/plain": [
       "<matplotlib.figure.Figure at 0x7f5012303278>"
      ]
     },
     "metadata": {},
     "output_type": "display_data"
    }
   ],
   "source": [
    "sns.stripplot(x=\"source\", y=\"value\", data=pdf, jitter=True, alpha=.25)"
   ]
  },
  {
   "cell_type": "markdown",
   "metadata": {},
   "source": [
    "## Others"
   ]
  },
  {
   "cell_type": "code",
   "execution_count": 156,
   "metadata": {},
   "outputs": [
    {
     "data": {
      "text/html": [
       "<div>\n",
       "<style scoped>\n",
       "    .dataframe tbody tr th:only-of-type {\n",
       "        vertical-align: middle;\n",
       "    }\n",
       "\n",
       "    .dataframe tbody tr th {\n",
       "        vertical-align: top;\n",
       "    }\n",
       "\n",
       "    .dataframe thead th {\n",
       "        text-align: right;\n",
       "    }\n",
       "</style>\n",
       "<table border=\"1\" class=\"dataframe\">\n",
       "  <thead>\n",
       "    <tr style=\"text-align: right;\">\n",
       "      <th></th>\n",
       "      <th>query_id</th>\n",
       "      <th>reactions</th>\n",
       "      <th>shares</th>\n",
       "      <th>comments</th>\n",
       "      <th>plugin_comments</th>\n",
       "      <th>url_id</th>\n",
       "      <th>error_msg</th>\n",
       "      <th>size</th>\n",
       "    </tr>\n",
       "    <tr>\n",
       "      <th>type</th>\n",
       "      <th></th>\n",
       "      <th></th>\n",
       "      <th></th>\n",
       "      <th></th>\n",
       "      <th></th>\n",
       "      <th></th>\n",
       "      <th></th>\n",
       "      <th></th>\n",
       "    </tr>\n",
       "  </thead>\n",
       "  <tbody>\n",
       "    <tr>\n",
       "      <th>authors</th>\n",
       "      <td>70421.103093</td>\n",
       "      <td>239.391753</td>\n",
       "      <td>91.773196</td>\n",
       "      <td>167.092784</td>\n",
       "      <td>0.0</td>\n",
       "      <td>75507.639175</td>\n",
       "      <td>NaN</td>\n",
       "      <td>97</td>\n",
       "    </tr>\n",
       "    <tr>\n",
       "      <th>comments</th>\n",
       "      <td>76147.086957</td>\n",
       "      <td>1012.347826</td>\n",
       "      <td>429.826087</td>\n",
       "      <td>791.217391</td>\n",
       "      <td>0.0</td>\n",
       "      <td>83162.565217</td>\n",
       "      <td>NaN</td>\n",
       "      <td>23</td>\n",
       "    </tr>\n",
       "    <tr>\n",
       "      <th>doi</th>\n",
       "      <td>68643.444444</td>\n",
       "      <td>116.463768</td>\n",
       "      <td>47.859903</td>\n",
       "      <td>83.835749</td>\n",
       "      <td>0.0</td>\n",
       "      <td>72652.512077</td>\n",
       "      <td>NaN</td>\n",
       "      <td>207</td>\n",
       "    </tr>\n",
       "    <tr>\n",
       "      <th>doi_old</th>\n",
       "      <td>66678.180428</td>\n",
       "      <td>61.319266</td>\n",
       "      <td>17.390214</td>\n",
       "      <td>24.418349</td>\n",
       "      <td>0.0</td>\n",
       "      <td>69801.735168</td>\n",
       "      <td>NaN</td>\n",
       "      <td>1635</td>\n",
       "    </tr>\n",
       "    <tr>\n",
       "      <th>landing</th>\n",
       "      <td>62171.909592</td>\n",
       "      <td>12.703641</td>\n",
       "      <td>3.185519</td>\n",
       "      <td>4.375172</td>\n",
       "      <td>0.0</td>\n",
       "      <td>64364.476445</td>\n",
       "      <td>NaN</td>\n",
       "      <td>12333</td>\n",
       "    </tr>\n",
       "    <tr>\n",
       "      <th>metrics</th>\n",
       "      <td>68334.552682</td>\n",
       "      <td>25.822797</td>\n",
       "      <td>8.480843</td>\n",
       "      <td>15.883142</td>\n",
       "      <td>0.0</td>\n",
       "      <td>70388.348659</td>\n",
       "      <td>NaN</td>\n",
       "      <td>1044</td>\n",
       "    </tr>\n",
       "    <tr>\n",
       "      <th>pdf</th>\n",
       "      <td>68285.620690</td>\n",
       "      <td>0.752351</td>\n",
       "      <td>0.341693</td>\n",
       "      <td>0.363636</td>\n",
       "      <td>0.0</td>\n",
       "      <td>71217.231975</td>\n",
       "      <td>NaN</td>\n",
       "      <td>638</td>\n",
       "    </tr>\n",
       "    <tr>\n",
       "      <th>related</th>\n",
       "      <td>72035.812500</td>\n",
       "      <td>494.406250</td>\n",
       "      <td>204.593750</td>\n",
       "      <td>223.000000</td>\n",
       "      <td>0.0</td>\n",
       "      <td>76503.250000</td>\n",
       "      <td>NaN</td>\n",
       "      <td>32</td>\n",
       "    </tr>\n",
       "  </tbody>\n",
       "</table>\n",
       "</div>"
      ],
      "text/plain": [
       "              query_id    reactions      shares    comments  plugin_comments  \\\n",
       "type                                                                           \n",
       "authors   70421.103093   239.391753   91.773196  167.092784              0.0   \n",
       "comments  76147.086957  1012.347826  429.826087  791.217391              0.0   \n",
       "doi       68643.444444   116.463768   47.859903   83.835749              0.0   \n",
       "doi_old   66678.180428    61.319266   17.390214   24.418349              0.0   \n",
       "landing   62171.909592    12.703641    3.185519    4.375172              0.0   \n",
       "metrics   68334.552682    25.822797    8.480843   15.883142              0.0   \n",
       "pdf       68285.620690     0.752351    0.341693    0.363636              0.0   \n",
       "related   72035.812500   494.406250  204.593750  223.000000              0.0   \n",
       "\n",
       "                url_id  error_msg   size  \n",
       "type                                      \n",
       "authors   75507.639175        NaN     97  \n",
       "comments  83162.565217        NaN     23  \n",
       "doi       72652.512077        NaN    207  \n",
       "doi_old   69801.735168        NaN   1635  \n",
       "landing   64364.476445        NaN  12333  \n",
       "metrics   70388.348659        NaN   1044  \n",
       "pdf       71217.231975        NaN    638  \n",
       "related   76503.250000        NaN     32  "
      ]
     },
     "execution_count": 156,
     "metadata": {},
     "output_type": "execute_result"
    }
   ],
   "source": [
    "a = c.reset_index().groupby([\"type\", \"og_id\"]).mean().groupby([\"type\"]).mean()\n",
    "a['size'] = c.reset_index().groupby([\"type\", \"og_id\"]).mean().groupby([\"type\"]).size()\n",
    "a"
   ]
  }
 ],
 "metadata": {
  "kernelspec": {
   "display_name": "altmetrics",
   "language": "python",
   "name": "altmetrics"
  },
  "language_info": {
   "codemirror_mode": {
    "name": "ipython",
    "version": 3
   },
   "file_extension": ".py",
   "mimetype": "text/x-python",
   "name": "python",
   "nbconvert_exporter": "python",
   "pygments_lexer": "ipython3",
   "version": "3.5.2"
  }
 },
 "nbformat": 4,
 "nbformat_minor": 2
}
