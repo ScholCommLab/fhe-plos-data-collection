{
 "cells": [
  {
   "cell_type": "markdown",
   "metadata": {},
   "source": [
    "# Analysis"
   ]
  },
  {
   "cell_type": "code",
   "execution_count": null,
   "metadata": {},
   "outputs": [],
   "source": [
    "import pandas as pd"
   ]
  },
  {
   "cell_type": "code",
   "execution_count": null,
   "metadata": {},
   "outputs": [],
   "source": [
    "input_csv = \"../data/plos2016.csv\"\n",
    "urls_csv = \"../data/urls.csv\"\n",
    "query_csv = \"../data/queries_12k.csv\"\n",
    "og_csv = \"../data/og_objects_12k.csv\""
   ]
  },
  {
   "cell_type": "code",
   "execution_count": null,
   "metadata": {},
   "outputs": [],
   "source": [
    "articles = pd.read_csv(input_csv, index_col=\"doi\")\n",
    "urls = pd.read_csv(urls_csv, index_col=\"url_id\")\n",
    "queries = pd.read_csv(query_csv, index_col=\"query_id\")\n",
    "og_objects = pd.read_csv(og_csv, index_col=\"og_id\")"
   ]
  },
  {
   "cell_type": "code",
   "execution_count": null,
   "metadata": {},
   "outputs": [],
   "source": [
    "og_objects[[\"reactions\", \"shares\", \"comments\", \"plugin_comments\"]] = og_objects[[\"reactions\", \"shares\", \"comments\", \"plugin_comments\"]].astype(int)"
   ]
  },
  {
   "cell_type": "code",
   "execution_count": null,
   "metadata": {},
   "outputs": [],
   "source": [
    "a = og_objects.merge(queries, left_on=\"query_id\", right_index=True, how=\"left\")\n",
    "b = a.merge(urls, left_on=\"url_id\", right_index=True, how=\"left\")\n",
    "c = b.merge(articles, left_on=\"doi\", right_index=True, how=\"left\")"
   ]
  },
  {
   "cell_type": "code",
   "execution_count": null,
   "metadata": {},
   "outputs": [],
   "source": [
    "dupl_queries = og_objects[og_objects.index.duplicated(keep=False)].query_id"
   ]
  },
  {
   "cell_type": "code",
   "execution_count": null,
   "metadata": {},
   "outputs": [],
   "source": [
    "c[c.query_id.isin(dupl_queries)].groupby(\"type\")[['reactions', 'shares', 'comments', 'plugin_comments']].mean()"
   ]
  },
  {
   "cell_type": "code",
   "execution_count": null,
   "metadata": {},
   "outputs": [],
   "source": [
    "x = c.reset_index().groupby([\"doi\", \"og_type\"])['og_id'].apply(lambda x: len(set(x))!=1)\n",
    "x[x]"
   ]
  },
  {
   "cell_type": "code",
   "execution_count": null,
   "metadata": {},
   "outputs": [],
   "source": [
    "c[c.doi.isin(xdois)].groupby(\"doi\")['shares'].count()"
   ]
  },
  {
   "cell_type": "code",
   "execution_count": null,
   "metadata": {},
   "outputs": [],
   "source": [
    "a = a[~a.query_id.isin(dupl_queries)]\n",
    "b = b[~b.query_id.isin(dupl_queries)]\n",
    "c = c[~c.query_id.isin(dupl_queries)]"
   ]
  },
  {
   "cell_type": "code",
   "execution_count": null,
   "metadata": {},
   "outputs": [],
   "source": [
    "mean = b.groupby(\"type\")[['shares']].mean()\n",
    "count = b.groupby(\"type\")[['shares']].count()\n",
    "\n",
    "mean['size'] = b.groupby(\"type\").size()\n",
    "mean"
   ]
  },
  {
   "cell_type": "code",
   "execution_count": null,
   "metadata": {},
   "outputs": [],
   "source": [
    "b.groupby(\"type\")[['reactions', 'shares', 'comments', 'plugin_comments']].mean()"
   ]
  },
  {
   "cell_type": "code",
   "execution_count": null,
   "metadata": {},
   "outputs": [],
   "source": [
    "# Total shares by article\n",
    "c.groupby([\"doi\"])[['shares']].sum().sort_values(\"shares\", ascending=False).head()"
   ]
  },
  {
   "cell_type": "code",
   "execution_count": null,
   "metadata": {},
   "outputs": [],
   "source": [
    "c.columns"
   ]
  },
  {
   "cell_type": "code",
   "execution_count": null,
   "metadata": {},
   "outputs": [],
   "source": [
    "c[c.doi==\"10.1371/journal.pone.0156632\"].groupby(\"type\").size()"
   ]
  },
  {
   "cell_type": "code",
   "execution_count": null,
   "metadata": {},
   "outputs": [],
   "source": [
    "og_objects[[\"reactions\", \"shares\", \"comments\", \"plugin_comments\"]] = og_objects[[\"reactions\", \"shares\", \"comments\", \"plugin_comments\"]].astype(int)"
   ]
  }
 ],
 "metadata": {
  "kernelspec": {
   "display_name": "altmetrics",
   "language": "python",
   "name": "altmetrics"
  },
  "language_info": {
   "codemirror_mode": {
    "name": "ipython",
    "version": 3
   },
   "file_extension": ".py",
   "mimetype": "text/x-python",
   "name": "python",
   "nbconvert_exporter": "python",
   "pygments_lexer": "ipython3",
   "version": "3.5.2"
  }
 },
 "nbformat": 4,
 "nbformat_minor": 2
}
