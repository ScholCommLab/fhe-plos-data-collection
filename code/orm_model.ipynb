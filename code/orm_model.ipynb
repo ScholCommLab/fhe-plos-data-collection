{
 "cells": [
  {
   "cell_type": "code",
   "execution_count": 1,
   "metadata": {},
   "outputs": [
    {
     "data": {
      "application/vnd.jupyter.widget-view+json": {
       "model_id": "8d383afc72c3464e9234ab16354973b3",
       "version_major": 2,
       "version_minor": 0
      },
      "text/plain": [
       "HBox(children=(IntProgress(value=1, bar_style='info', max=1), HTML(value='')))"
      ]
     },
     "metadata": {},
     "output_type": "display_data"
    },
    {
     "name": "stdout",
     "output_type": "stream",
     "text": [
      "\n"
     ]
    }
   ],
   "source": [
    "import datetime\n",
    "import configparser\n",
    "import json\n",
    "\n",
    "from peewee import *\n",
    "import pandas as pd\n",
    "from tqdm._tqdm_notebook import tqdm_notebook\n",
    "tqdm_notebook().pandas()\n",
    "\n",
    "import requests\n",
    "from facebook import GraphAPI"
   ]
  },
  {
   "cell_type": "code",
   "execution_count": 3,
   "metadata": {},
   "outputs": [],
   "source": [
    "db = SqliteDatabase(\"data/db.sqlite\")"
   ]
  },
  {
   "cell_type": "code",
   "execution_count": 3,
   "metadata": {},
   "outputs": [],
   "source": [
    "class BaseModel(Model):\n",
    "    \"\"\"The base model which connects to our SQLite db\"\"\"\n",
    "    class Meta:\n",
    "        database = db\n",
    "\n",
    "class Article(BaseModel):\n",
    "    \"\"\"ORM Model for academic articles\"\"\"\n",
    "    id = IntegerField(primary_key=True)\n",
    "    created_on = DateField()\n",
    "    \n",
    "    doi = TextField(unique=True)\n",
    "    publication_date = DateField()\n",
    "    title = TextField(null)\n",
    "    author = TextField(null=True) # data seems to be incomplete... not sure about the other fields\n",
    "    \n",
    "class URL(BaseModel):\n",
    "    \"\"\"ORM Model for article URLs\"\"\"\n",
    "    id = IntegerField(primary_key=True)\n",
    "    articleID = ForeignKeyField(Article, backref=\"id\")\n",
    "    \n",
    "    url = TextField()\n",
    "    is_duplicate = BooleanField(default=False) # might become relevant for URL crawlers \n",
    "    added_on = DateField(default=datetime.datetime.now)\n",
    "    \n",
    "class Query(BaseModel):\n",
    "    \"\"\"ORM Model for Graph API Queries\"\"\"\n",
    "    id = IntegerField(primary_key=True)\n",
    "    urlID = ForeignKeyField(URL, backref=\"id\")\n",
    "    \n",
    "    queried_on = DateField()\n",
    "    response_status = IntegerField()\n",
    "    error_msg = TextField(null=True)\n",
    "    \n",
    "class GraphObject(BaseModel):\n",
    "    \"\"\"ORM Model for queried Graph Objects\"\"\"\n",
    "    id = IntegerField(primary_key=True) # og_id provided by FB\n",
    "    queryID = ForeignKeyField(Query, backref=\"id\")\n",
    "    \n",
    "    # URL that Facebook received - useful to double-check FB's internal heuristics\n",
    "    fb_url = TextField(null=True)\n",
    "    received_on = DateField()\n",
    "    \n",
    "    # OG object\n",
    "    og_description = TextField(null=True)\n",
    "    og_title = TextField(null=True)\n",
    "    og_type = TextField(null=True)\n",
    "    og_updated_time = DateField()\n",
    "    \n",
    "    # Engagement object\n",
    "    reactions = IntegerField(default=0)\n",
    "    shares = IntegerField(default=0)\n",
    "    comments = IntegerField(default=0)\n",
    "    plugin_comments = IntegerField(default=0)\n",
    "    \n",
    "class Event(BaseModel):\n",
    "    \"\"\"ORM Model for CED Events\"\"\"\n",
    "    "
   ]
  },
  {
   "cell_type": "code",
   "execution_count": 4,
   "metadata": {},
   "outputs": [],
   "source": [
    "db.drop_tables([Article, URL, Query, Response])"
   ]
  },
  {
   "cell_type": "code",
   "execution_count": 5,
   "metadata": {},
   "outputs": [
    {
     "name": "stdout",
     "output_type": "stream",
     "text": [
      "Connection already established\n"
     ]
    }
   ],
   "source": [
    "try:\n",
    "    db.connect()\n",
    "except:\n",
    "    print(\"Connection already established\")\n",
    "\n",
    "db.create_tables([Article, URL, Query, Response])"
   ]
  }
 ],
 "metadata": {
  "kernelspec": {
   "display_name": "altmetrics",
   "language": "python",
   "name": "altmetrics"
  },
  "language_info": {
   "codemirror_mode": {
    "name": "ipython",
    "version": 3
   },
   "file_extension": ".py",
   "mimetype": "text/x-python",
   "name": "python",
   "nbconvert_exporter": "python",
   "pygments_lexer": "ipython3",
   "version": "3.5.2"
  }
 },
 "nbformat": 4,
 "nbformat_minor": 2
}
